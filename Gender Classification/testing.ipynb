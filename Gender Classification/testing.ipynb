{
 "metadata": {
  "language_info": {
   "codemirror_mode": {
    "name": "ipython",
    "version": 3
   },
   "file_extension": ".py",
   "mimetype": "text/x-python",
   "name": "python",
   "nbconvert_exporter": "python",
   "pygments_lexer": "ipython3",
   "version": "3.7.9-final"
  },
  "orig_nbformat": 2,
  "kernelspec": {
   "name": "Python 3.7.9 64-bit",
   "display_name": "Python 3.7.9 64-bit",
   "metadata": {
    "interpreter": {
     "hash": "9e6a1c2788dc3130a21f64c4dfe6f0052f708b5130c25c4b672553fb9d5dfdf4"
    }
   }
  }
 },
 "nbformat": 4,
 "nbformat_minor": 2,
 "cells": [
  {
   "cell_type": "code",
   "execution_count": 1,
   "metadata": {},
   "outputs": [],
   "source": [
    "from tensorflow.keras.models import load_model\n",
    "import numpy as np \n",
    "import cv2"
   ]
  },
  {
   "cell_type": "code",
   "execution_count": 2,
   "metadata": {},
   "outputs": [],
   "source": [
    "# Load the model\n",
    "new_model = load_model('gc.h5')"
   ]
  },
  {
   "cell_type": "code",
   "execution_count": 3,
   "metadata": {},
   "outputs": [],
   "source": [
    "cap = cv2.VideoCapture(0)\n",
    "\n",
    "faceCascade = cv2.CascadeClassifier('haarcascades/haarcascade_frontalface_default.xml')"
   ]
  },
  {
   "cell_type": "code",
   "execution_count": 4,
   "metadata": {},
   "outputs": [
    {
     "output_type": "stream",
     "name": "stdout",
     "text": [
      "WARNING:tensorflow:Model was constructed with shape (None, 110, 150, 3) for input Tensor(\"conv2d_26_input:0\", shape=(None, 110, 150, 3), dtype=float32), but it was called on an input with incompatible shape (None, 150, 110, 3).\n"
     ]
    }
   ],
   "source": [
    "while True:\n",
    "    success,img = cap.read()\n",
    "    faces = faceCascade.detectMultiScale(img,1.2,4)\n",
    "    for (x, y, w, h) in faces:\n",
    "        FaceImg = img[y:y+h,x:x+w]\n",
    "        FaceImg = cv2.cvtColor(FaceImg,cv2.COLOR_BGR2RGB)\n",
    "        FaceImg = cv2.resize(FaceImg,(110,150))\n",
    "        FaceImg=np.expand_dims(FaceImg, axis=0)\n",
    "        classs = new_model.predict(FaceImg)\n",
    "        if classs == 1.0:\n",
    "            cv2.rectangle(img,(x,y),(x+w,y+h),(0,255,0),4)\n",
    "            cv2.putText(img,'Male',(x,y-5),cv2.FONT_HERSHEY_COMPLEX_SMALL,1,(0,255,0),2)\n",
    "        else:\n",
    "            cv2.rectangle(img,(x,y),(x+w,y+h),(255,0,0),4)\n",
    "            cv2.putText(img,'Female',(x,y-5),cv2.FONT_HERSHEY_COMPLEX_SMALL,1,(255,0,0),2)\n",
    "    cv2.imshow('Video',img)\n",
    "    if cv2.waitKey(1) & 0xff==ord('q'):\n",
    "        break\n",
    "\n",
    "cap.release()\n",
    "cv2.destroyAllWindows()"
   ]
  },
  {
   "cell_type": "code",
   "execution_count": null,
   "metadata": {},
   "outputs": [],
   "source": []
  }
 ]
}